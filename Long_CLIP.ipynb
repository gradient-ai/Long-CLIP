{
 "cells": [
  {
   "cell_type": "code",
   "execution_count": 1,
   "id": "7b916873",
   "metadata": {},
   "outputs": [],
   "source": [
    "# !git clone https://github.com/beichenzbc/Long-CLIP.git\n"
   ]
  },
  {
   "cell_type": "code",
   "execution_count": 29,
   "id": "bdabb413",
   "metadata": {},
   "outputs": [
    {
     "name": "stdout",
     "output_type": "stream",
     "text": [
      "[Errno 2] No such file or directory: 'Long-CLIP'\n",
      "/Users/shaonimukherjee/Code Playground/longclip/Long-CLIP/eval/classification/imagenet\n"
     ]
    }
   ],
   "source": [
    "cd Long-CLIP\n"
   ]
  },
  {
   "cell_type": "code",
   "execution_count": 4,
   "id": "f5c93144",
   "metadata": {},
   "outputs": [],
   "source": [
    "from model import longclip\n",
    "import torch\n",
    "from PIL import Image\n",
    "import numpy as np"
   ]
  },
  {
   "cell_type": "code",
   "execution_count": 5,
   "id": "45df811a",
   "metadata": {},
   "outputs": [],
   "source": [
    "device = \"cuda\" if torch.cuda.is_available() else \"cpu\"\n",
    "model, preprocess = longclip.load(\"./checkpoints/longclip-B.pt\", device=device)"
   ]
  },
  {
   "cell_type": "code",
   "execution_count": 6,
   "id": "1e72ab64",
   "metadata": {},
   "outputs": [],
   "source": [
    "text = longclip.tokenize([\"A man is crossing the street with a red car parked nearby.\", \"A man is driving a car in an urban scene.\"]).to(device)\n",
    "image = preprocess(Image.open(\"./img/demo.png\")).unsqueeze(0).to(device)"
   ]
  },
  {
   "cell_type": "code",
   "execution_count": 7,
   "id": "bb66c449",
   "metadata": {},
   "outputs": [
    {
     "name": "stdout",
     "output_type": "stream",
     "text": [
      "Label probs: [[0.98200136 0.01799861]]\n"
     ]
    }
   ],
   "source": [
    "with torch.no_grad():\n",
    "    image_features = model.encode_image(image)\n",
    "    text_features = model.encode_text(text)\n",
    "    \n",
    "    logits_per_image, logits_per_text = model(image, text)\n",
    "    probs = logits_per_image.softmax(dim=-1).cpu().numpy()\n",
    "\n",
    "print(\"Label probs:\", probs) # prints: [[0.982  0.01799]]"
   ]
  },
  {
   "cell_type": "code",
   "execution_count": 11,
   "id": "3cd3987e",
   "metadata": {},
   "outputs": [
    {
     "name": "stdout",
     "output_type": "stream",
     "text": [
      "\u001b[34m__pycache__\u001b[m\u001b[m/    classes.py      imagenet.py\r\n",
      "categories.txt  data_loader.py  templates.py\r\n"
     ]
    }
   ],
   "source": [
    "ls"
   ]
  },
  {
   "cell_type": "code",
   "execution_count": 12,
   "id": "7ea01da1",
   "metadata": {},
   "outputs": [],
   "source": [
    "text = longclip.tokenize([\"A cat jumping.\", \"A cat sleeping.\"]).to(device)\n",
    "image = preprocess(Image.open(\"./img/cat.jpg\")).unsqueeze(0).to(device)"
   ]
  },
  {
   "cell_type": "code",
   "execution_count": 13,
   "id": "bebb7599",
   "metadata": {},
   "outputs": [
    {
     "name": "stdout",
     "output_type": "stream",
     "text": [
      "Label probs: [[0.00201881 0.99798125]]\n"
     ]
    }
   ],
   "source": [
    "with torch.no_grad():\n",
    "    image_features = model.encode_image(image)\n",
    "    text_features = model.encode_text(text)\n",
    "    \n",
    "    logits_per_image, logits_per_text = model(image, text)\n",
    "    probs = logits_per_image.softmax(dim=-1).cpu().numpy()\n",
    "\n",
    "print(\"Label probs:\", probs)"
   ]
  },
  {
   "cell_type": "code",
   "execution_count": 16,
   "id": "d741f261",
   "metadata": {},
   "outputs": [],
   "source": [
    "text = longclip.tokenize([\"A dog walking with a human.\", \"A dog talking with a human.\"]).to(device)\n",
    "image = preprocess(Image.open(\"./img/dog_Walk.jpg\")).unsqueeze(0).to(device)"
   ]
  },
  {
   "cell_type": "code",
   "execution_count": 17,
   "id": "762938f6",
   "metadata": {},
   "outputs": [
    {
     "name": "stdout",
     "output_type": "stream",
     "text": [
      "Label probs: [[0.9423362  0.05766385]]\n"
     ]
    }
   ],
   "source": [
    "with torch.no_grad():\n",
    "    image_features = model.encode_image(image)\n",
    "    text_features = model.encode_text(text)\n",
    "    \n",
    "    logits_per_image, logits_per_text = model(image, text)\n",
    "    probs = logits_per_image.softmax(dim=-1).cpu().numpy()\n",
    "\n",
    "print(\"Label probs:\", probs)"
   ]
  },
  {
   "cell_type": "code",
   "execution_count": 8,
   "id": "ce38ad63",
   "metadata": {
    "scrolled": true
   },
   "outputs": [
    {
     "data": {
      "text/plain": [
       "tensor([[-0.0531,  0.1650, -0.0865,  ...,  0.3076,  0.1851,  0.1972],\n",
       "        [ 0.0181, -0.0699,  0.2107,  ...,  0.1637, -0.0913,  0.3545]])"
      ]
     },
     "execution_count": 8,
     "metadata": {},
     "output_type": "execute_result"
    }
   ],
   "source": [
    "# text_features"
   ]
  },
  {
   "cell_type": "code",
   "execution_count": 12,
   "id": "9144e356",
   "metadata": {
    "scrolled": true
   },
   "outputs": [
    {
     "data": {
      "text/plain": [
       "tensor([ 0.1384, -0.1739, -0.0762, -0.0642,  0.3947, -0.6165,  0.3728,  1.0172,\n",
       "         0.4740, -0.1217])"
      ]
     },
     "execution_count": 12,
     "metadata": {},
     "output_type": "execute_result"
    }
   ],
   "source": [
    "image_features[0][:10]"
   ]
  },
  {
   "cell_type": "code",
   "execution_count": 13,
   "id": "ffb82b9e",
   "metadata": {},
   "outputs": [
    {
     "data": {
      "text/plain": [
       "tensor([-0.0531,  0.1650, -0.0865,  0.0483,  0.3860,  0.1215,  0.0982,  0.0265,\n",
       "         0.2142, -0.1879])"
      ]
     },
     "execution_count": 13,
     "metadata": {},
     "output_type": "execute_result"
    }
   ],
   "source": [
    "text_features[0][:10]"
   ]
  }
 ],
 "metadata": {
  "kernelspec": {
   "display_name": "Python 3 (ipykernel)",
   "language": "python",
   "name": "python3"
  },
  "language_info": {
   "codemirror_mode": {
    "name": "ipython",
    "version": 3
   },
   "file_extension": ".py",
   "mimetype": "text/x-python",
   "name": "python",
   "nbconvert_exporter": "python",
   "pygments_lexer": "ipython3",
   "version": "3.11.5"
  }
 },
 "nbformat": 4,
 "nbformat_minor": 5
}
